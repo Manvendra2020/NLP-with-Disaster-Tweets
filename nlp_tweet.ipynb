{
  "nbformat": 4,
  "nbformat_minor": 0,
  "metadata": {
    "colab": {
      "name": "nlp_tweet.ipynb",
      "provenance": [],
      "collapsed_sections": [],
      "authorship_tag": "ABX9TyMmvIUjLZSiVFDA0703v8Rv"
    },
    "kernelspec": {
      "name": "python3",
      "display_name": "Python 3"
    }
  },
  "cells": [
    {
      "cell_type": "code",
      "metadata": {
        "id": "qdSNjjd60q_l",
        "colab_type": "code",
        "outputId": "6ae46e0d-422d-4ab7-e022-a032c0fb7443",
        "colab": {
          "base_uri": "https://localhost:8080/",
          "height": 204
        }
      },
      "source": [
        "import pandas as pd\n",
        "test_df=pd.read_csv('test.csv')\n",
        "train_df=pd.read_csv('train.csv')\n",
        "test_df.head()"
      ],
      "execution_count": 1,
      "outputs": [
        {
          "output_type": "execute_result",
          "data": {
            "text/html": [
              "<div>\n",
              "<style scoped>\n",
              "    .dataframe tbody tr th:only-of-type {\n",
              "        vertical-align: middle;\n",
              "    }\n",
              "\n",
              "    .dataframe tbody tr th {\n",
              "        vertical-align: top;\n",
              "    }\n",
              "\n",
              "    .dataframe thead th {\n",
              "        text-align: right;\n",
              "    }\n",
              "</style>\n",
              "<table border=\"1\" class=\"dataframe\">\n",
              "  <thead>\n",
              "    <tr style=\"text-align: right;\">\n",
              "      <th></th>\n",
              "      <th>id</th>\n",
              "      <th>keyword</th>\n",
              "      <th>location</th>\n",
              "      <th>text</th>\n",
              "    </tr>\n",
              "  </thead>\n",
              "  <tbody>\n",
              "    <tr>\n",
              "      <th>0</th>\n",
              "      <td>0</td>\n",
              "      <td>NaN</td>\n",
              "      <td>NaN</td>\n",
              "      <td>Just happened a terrible car crash</td>\n",
              "    </tr>\n",
              "    <tr>\n",
              "      <th>1</th>\n",
              "      <td>2</td>\n",
              "      <td>NaN</td>\n",
              "      <td>NaN</td>\n",
              "      <td>Heard about #earthquake is different cities, s...</td>\n",
              "    </tr>\n",
              "    <tr>\n",
              "      <th>2</th>\n",
              "      <td>3</td>\n",
              "      <td>NaN</td>\n",
              "      <td>NaN</td>\n",
              "      <td>there is a forest fire at spot pond, geese are...</td>\n",
              "    </tr>\n",
              "    <tr>\n",
              "      <th>3</th>\n",
              "      <td>9</td>\n",
              "      <td>NaN</td>\n",
              "      <td>NaN</td>\n",
              "      <td>Apocalypse lighting. #Spokane #wildfires</td>\n",
              "    </tr>\n",
              "    <tr>\n",
              "      <th>4</th>\n",
              "      <td>11</td>\n",
              "      <td>NaN</td>\n",
              "      <td>NaN</td>\n",
              "      <td>Typhoon Soudelor kills 28 in China and Taiwan</td>\n",
              "    </tr>\n",
              "  </tbody>\n",
              "</table>\n",
              "</div>"
            ],
            "text/plain": [
              "   id keyword location                                               text\n",
              "0   0     NaN      NaN                 Just happened a terrible car crash\n",
              "1   2     NaN      NaN  Heard about #earthquake is different cities, s...\n",
              "2   3     NaN      NaN  there is a forest fire at spot pond, geese are...\n",
              "3   9     NaN      NaN           Apocalypse lighting. #Spokane #wildfires\n",
              "4  11     NaN      NaN      Typhoon Soudelor kills 28 in China and Taiwan"
            ]
          },
          "metadata": {
            "tags": []
          },
          "execution_count": 1
        }
      ]
    },
    {
      "cell_type": "code",
      "metadata": {
        "id": "o0lqhXLI5r-2",
        "colab_type": "code",
        "outputId": "b6aaffd3-2086-40b1-e10e-e951b67c7162",
        "colab": {
          "base_uri": "https://localhost:8080/",
          "height": 204
        }
      },
      "source": [
        "test_df=pd.read_csv('test.csv')\n",
        "train_df=pd.read_csv('train.csv')\n",
        "test_df.head()"
      ],
      "execution_count": 2,
      "outputs": [
        {
          "output_type": "execute_result",
          "data": {
            "text/html": [
              "<div>\n",
              "<style scoped>\n",
              "    .dataframe tbody tr th:only-of-type {\n",
              "        vertical-align: middle;\n",
              "    }\n",
              "\n",
              "    .dataframe tbody tr th {\n",
              "        vertical-align: top;\n",
              "    }\n",
              "\n",
              "    .dataframe thead th {\n",
              "        text-align: right;\n",
              "    }\n",
              "</style>\n",
              "<table border=\"1\" class=\"dataframe\">\n",
              "  <thead>\n",
              "    <tr style=\"text-align: right;\">\n",
              "      <th></th>\n",
              "      <th>id</th>\n",
              "      <th>keyword</th>\n",
              "      <th>location</th>\n",
              "      <th>text</th>\n",
              "    </tr>\n",
              "  </thead>\n",
              "  <tbody>\n",
              "    <tr>\n",
              "      <th>0</th>\n",
              "      <td>0</td>\n",
              "      <td>NaN</td>\n",
              "      <td>NaN</td>\n",
              "      <td>Just happened a terrible car crash</td>\n",
              "    </tr>\n",
              "    <tr>\n",
              "      <th>1</th>\n",
              "      <td>2</td>\n",
              "      <td>NaN</td>\n",
              "      <td>NaN</td>\n",
              "      <td>Heard about #earthquake is different cities, s...</td>\n",
              "    </tr>\n",
              "    <tr>\n",
              "      <th>2</th>\n",
              "      <td>3</td>\n",
              "      <td>NaN</td>\n",
              "      <td>NaN</td>\n",
              "      <td>there is a forest fire at spot pond, geese are...</td>\n",
              "    </tr>\n",
              "    <tr>\n",
              "      <th>3</th>\n",
              "      <td>9</td>\n",
              "      <td>NaN</td>\n",
              "      <td>NaN</td>\n",
              "      <td>Apocalypse lighting. #Spokane #wildfires</td>\n",
              "    </tr>\n",
              "    <tr>\n",
              "      <th>4</th>\n",
              "      <td>11</td>\n",
              "      <td>NaN</td>\n",
              "      <td>NaN</td>\n",
              "      <td>Typhoon Soudelor kills 28 in China and Taiwan</td>\n",
              "    </tr>\n",
              "  </tbody>\n",
              "</table>\n",
              "</div>"
            ],
            "text/plain": [
              "   id keyword location                                               text\n",
              "0   0     NaN      NaN                 Just happened a terrible car crash\n",
              "1   2     NaN      NaN  Heard about #earthquake is different cities, s...\n",
              "2   3     NaN      NaN  there is a forest fire at spot pond, geese are...\n",
              "3   9     NaN      NaN           Apocalypse lighting. #Spokane #wildfires\n",
              "4  11     NaN      NaN      Typhoon Soudelor kills 28 in China and Taiwan"
            ]
          },
          "metadata": {
            "tags": []
          },
          "execution_count": 2
        }
      ]
    },
    {
      "cell_type": "code",
      "metadata": {
        "id": "Ti5h-ozC5yQ7",
        "colab_type": "code",
        "outputId": "ab8636e9-4be5-46af-d363-0d40b11e03ec",
        "colab": {
          "base_uri": "https://localhost:8080/",
          "height": 34
        }
      },
      "source": [
        "df=pd.concat([train_df,test_df],ignore_index=True,sort=False)\n",
        "df.shape"
      ],
      "execution_count": 3,
      "outputs": [
        {
          "output_type": "execute_result",
          "data": {
            "text/plain": [
              "(10876, 5)"
            ]
          },
          "metadata": {
            "tags": []
          },
          "execution_count": 3
        }
      ]
    },
    {
      "cell_type": "code",
      "metadata": {
        "id": "RFbH8RDt54RP",
        "colab_type": "code",
        "colab": {}
      },
      "source": [
        "df=df.drop(columns=['keyword', 'location'])"
      ],
      "execution_count": 0,
      "outputs": []
    },
    {
      "cell_type": "code",
      "metadata": {
        "id": "gg9CLV1p59P7",
        "colab_type": "code",
        "outputId": "1b43e427-dc71-4d77-c97c-b3ec7a871990",
        "colab": {
          "base_uri": "https://localhost:8080/",
          "height": 204
        }
      },
      "source": [
        "df['text'] = df['text'].str.lower()\n",
        "df.head()"
      ],
      "execution_count": 5,
      "outputs": [
        {
          "output_type": "execute_result",
          "data": {
            "text/html": [
              "<div>\n",
              "<style scoped>\n",
              "    .dataframe tbody tr th:only-of-type {\n",
              "        vertical-align: middle;\n",
              "    }\n",
              "\n",
              "    .dataframe tbody tr th {\n",
              "        vertical-align: top;\n",
              "    }\n",
              "\n",
              "    .dataframe thead th {\n",
              "        text-align: right;\n",
              "    }\n",
              "</style>\n",
              "<table border=\"1\" class=\"dataframe\">\n",
              "  <thead>\n",
              "    <tr style=\"text-align: right;\">\n",
              "      <th></th>\n",
              "      <th>id</th>\n",
              "      <th>text</th>\n",
              "      <th>target</th>\n",
              "    </tr>\n",
              "  </thead>\n",
              "  <tbody>\n",
              "    <tr>\n",
              "      <th>0</th>\n",
              "      <td>1</td>\n",
              "      <td>our deeds are the reason of this #earthquake m...</td>\n",
              "      <td>1.0</td>\n",
              "    </tr>\n",
              "    <tr>\n",
              "      <th>1</th>\n",
              "      <td>4</td>\n",
              "      <td>forest fire near la ronge sask. canada</td>\n",
              "      <td>1.0</td>\n",
              "    </tr>\n",
              "    <tr>\n",
              "      <th>2</th>\n",
              "      <td>5</td>\n",
              "      <td>all residents asked to 'shelter in place' are ...</td>\n",
              "      <td>1.0</td>\n",
              "    </tr>\n",
              "    <tr>\n",
              "      <th>3</th>\n",
              "      <td>6</td>\n",
              "      <td>13,000 people receive #wildfires evacuation or...</td>\n",
              "      <td>1.0</td>\n",
              "    </tr>\n",
              "    <tr>\n",
              "      <th>4</th>\n",
              "      <td>7</td>\n",
              "      <td>just got sent this photo from ruby #alaska as ...</td>\n",
              "      <td>1.0</td>\n",
              "    </tr>\n",
              "  </tbody>\n",
              "</table>\n",
              "</div>"
            ],
            "text/plain": [
              "   id                                               text  target\n",
              "0   1  our deeds are the reason of this #earthquake m...     1.0\n",
              "1   4             forest fire near la ronge sask. canada     1.0\n",
              "2   5  all residents asked to 'shelter in place' are ...     1.0\n",
              "3   6  13,000 people receive #wildfires evacuation or...     1.0\n",
              "4   7  just got sent this photo from ruby #alaska as ...     1.0"
            ]
          },
          "metadata": {
            "tags": []
          },
          "execution_count": 5
        }
      ]
    },
    {
      "cell_type": "code",
      "metadata": {
        "id": "EcvvZCC56CHf",
        "colab_type": "code",
        "colab": {}
      },
      "source": [
        "import re\n",
        "#!pip install nltk\n",
        "import nltk\n",
        "#!pip install spacy\n",
        "import spacy\n",
        "import string"
      ],
      "execution_count": 0,
      "outputs": []
    },
    {
      "cell_type": "code",
      "metadata": {
        "id": "FaBWFQC66LXa",
        "colab_type": "code",
        "outputId": "e7aade97-2a51-4b88-b4d5-42c788db989b",
        "colab": {
          "base_uri": "https://localhost:8080/",
          "height": 119
        }
      },
      "source": [
        "text=df['text']\n",
        "text.head()\n"
      ],
      "execution_count": 7,
      "outputs": [
        {
          "output_type": "execute_result",
          "data": {
            "text/plain": [
              "0    our deeds are the reason of this #earthquake m...\n",
              "1               forest fire near la ronge sask. canada\n",
              "2    all residents asked to 'shelter in place' are ...\n",
              "3    13,000 people receive #wildfires evacuation or...\n",
              "4    just got sent this photo from ruby #alaska as ...\n",
              "Name: text, dtype: object"
            ]
          },
          "metadata": {
            "tags": []
          },
          "execution_count": 7
        }
      ]
    },
    {
      "cell_type": "code",
      "metadata": {
        "id": "EVVpO2xP6fTG",
        "colab_type": "code",
        "colab": {}
      },
      "source": [
        "def remove_punctuation(text):\n",
        "    return text.translate(str.maketrans('', '', string.punctuation))\n",
        "\n",
        "text_clean = text.apply(lambda text: remove_punctuation(text))"
      ],
      "execution_count": 0,
      "outputs": []
    },
    {
      "cell_type": "code",
      "metadata": {
        "id": "c0kElaUF6g-I",
        "colab_type": "code",
        "outputId": "445cbe17-ca0e-4c38-cc7a-1ee63737c038",
        "colab": {
          "base_uri": "https://localhost:8080/",
          "height": 204
        }
      },
      "source": [
        "df1=df.copy()\n",
        "df1['text_clean']=text_clean\n",
        "df1.head()"
      ],
      "execution_count": 9,
      "outputs": [
        {
          "output_type": "execute_result",
          "data": {
            "text/html": [
              "<div>\n",
              "<style scoped>\n",
              "    .dataframe tbody tr th:only-of-type {\n",
              "        vertical-align: middle;\n",
              "    }\n",
              "\n",
              "    .dataframe tbody tr th {\n",
              "        vertical-align: top;\n",
              "    }\n",
              "\n",
              "    .dataframe thead th {\n",
              "        text-align: right;\n",
              "    }\n",
              "</style>\n",
              "<table border=\"1\" class=\"dataframe\">\n",
              "  <thead>\n",
              "    <tr style=\"text-align: right;\">\n",
              "      <th></th>\n",
              "      <th>id</th>\n",
              "      <th>text</th>\n",
              "      <th>target</th>\n",
              "      <th>text_clean</th>\n",
              "    </tr>\n",
              "  </thead>\n",
              "  <tbody>\n",
              "    <tr>\n",
              "      <th>0</th>\n",
              "      <td>1</td>\n",
              "      <td>our deeds are the reason of this #earthquake m...</td>\n",
              "      <td>1.0</td>\n",
              "      <td>our deeds are the reason of this earthquake ma...</td>\n",
              "    </tr>\n",
              "    <tr>\n",
              "      <th>1</th>\n",
              "      <td>4</td>\n",
              "      <td>forest fire near la ronge sask. canada</td>\n",
              "      <td>1.0</td>\n",
              "      <td>forest fire near la ronge sask canada</td>\n",
              "    </tr>\n",
              "    <tr>\n",
              "      <th>2</th>\n",
              "      <td>5</td>\n",
              "      <td>all residents asked to 'shelter in place' are ...</td>\n",
              "      <td>1.0</td>\n",
              "      <td>all residents asked to shelter in place are be...</td>\n",
              "    </tr>\n",
              "    <tr>\n",
              "      <th>3</th>\n",
              "      <td>6</td>\n",
              "      <td>13,000 people receive #wildfires evacuation or...</td>\n",
              "      <td>1.0</td>\n",
              "      <td>13000 people receive wildfires evacuation orde...</td>\n",
              "    </tr>\n",
              "    <tr>\n",
              "      <th>4</th>\n",
              "      <td>7</td>\n",
              "      <td>just got sent this photo from ruby #alaska as ...</td>\n",
              "      <td>1.0</td>\n",
              "      <td>just got sent this photo from ruby alaska as s...</td>\n",
              "    </tr>\n",
              "  </tbody>\n",
              "</table>\n",
              "</div>"
            ],
            "text/plain": [
              "   id  ...                                         text_clean\n",
              "0   1  ...  our deeds are the reason of this earthquake ma...\n",
              "1   4  ...              forest fire near la ronge sask canada\n",
              "2   5  ...  all residents asked to shelter in place are be...\n",
              "3   6  ...  13000 people receive wildfires evacuation orde...\n",
              "4   7  ...  just got sent this photo from ruby alaska as s...\n",
              "\n",
              "[5 rows x 4 columns]"
            ]
          },
          "metadata": {
            "tags": []
          },
          "execution_count": 9
        }
      ]
    },
    {
      "cell_type": "code",
      "metadata": {
        "id": "s-SeSc_Z6z-h",
        "colab_type": "code",
        "colab": {}
      },
      "source": [
        "test_df1=df1[df1['target'].isnull()]\n",
        "test_df1=test_df1.drop(columns=['target'])\n",
        "test_df1.reset_index(drop=True,inplace=True)"
      ],
      "execution_count": 0,
      "outputs": []
    },
    {
      "cell_type": "code",
      "metadata": {
        "id": "pfFWvjb7674P",
        "colab_type": "code",
        "outputId": "bac6ae32-ff95-4813-de44-97d15fb77ed1",
        "colab": {
          "base_uri": "https://localhost:8080/",
          "height": 204
        }
      },
      "source": [
        "train_df1=df1[df1['target'].notna()]\n",
        "train_df1.head()"
      ],
      "execution_count": 11,
      "outputs": [
        {
          "output_type": "execute_result",
          "data": {
            "text/html": [
              "<div>\n",
              "<style scoped>\n",
              "    .dataframe tbody tr th:only-of-type {\n",
              "        vertical-align: middle;\n",
              "    }\n",
              "\n",
              "    .dataframe tbody tr th {\n",
              "        vertical-align: top;\n",
              "    }\n",
              "\n",
              "    .dataframe thead th {\n",
              "        text-align: right;\n",
              "    }\n",
              "</style>\n",
              "<table border=\"1\" class=\"dataframe\">\n",
              "  <thead>\n",
              "    <tr style=\"text-align: right;\">\n",
              "      <th></th>\n",
              "      <th>id</th>\n",
              "      <th>text</th>\n",
              "      <th>target</th>\n",
              "      <th>text_clean</th>\n",
              "    </tr>\n",
              "  </thead>\n",
              "  <tbody>\n",
              "    <tr>\n",
              "      <th>0</th>\n",
              "      <td>1</td>\n",
              "      <td>our deeds are the reason of this #earthquake m...</td>\n",
              "      <td>1.0</td>\n",
              "      <td>our deeds are the reason of this earthquake ma...</td>\n",
              "    </tr>\n",
              "    <tr>\n",
              "      <th>1</th>\n",
              "      <td>4</td>\n",
              "      <td>forest fire near la ronge sask. canada</td>\n",
              "      <td>1.0</td>\n",
              "      <td>forest fire near la ronge sask canada</td>\n",
              "    </tr>\n",
              "    <tr>\n",
              "      <th>2</th>\n",
              "      <td>5</td>\n",
              "      <td>all residents asked to 'shelter in place' are ...</td>\n",
              "      <td>1.0</td>\n",
              "      <td>all residents asked to shelter in place are be...</td>\n",
              "    </tr>\n",
              "    <tr>\n",
              "      <th>3</th>\n",
              "      <td>6</td>\n",
              "      <td>13,000 people receive #wildfires evacuation or...</td>\n",
              "      <td>1.0</td>\n",
              "      <td>13000 people receive wildfires evacuation orde...</td>\n",
              "    </tr>\n",
              "    <tr>\n",
              "      <th>4</th>\n",
              "      <td>7</td>\n",
              "      <td>just got sent this photo from ruby #alaska as ...</td>\n",
              "      <td>1.0</td>\n",
              "      <td>just got sent this photo from ruby alaska as s...</td>\n",
              "    </tr>\n",
              "  </tbody>\n",
              "</table>\n",
              "</div>"
            ],
            "text/plain": [
              "   id  ...                                         text_clean\n",
              "0   1  ...  our deeds are the reason of this earthquake ma...\n",
              "1   4  ...              forest fire near la ronge sask canada\n",
              "2   5  ...  all residents asked to shelter in place are be...\n",
              "3   6  ...  13000 people receive wildfires evacuation orde...\n",
              "4   7  ...  just got sent this photo from ruby alaska as s...\n",
              "\n",
              "[5 rows x 4 columns]"
            ]
          },
          "metadata": {
            "tags": []
          },
          "execution_count": 11
        }
      ]
    },
    {
      "cell_type": "code",
      "metadata": {
        "id": "LhMrQVHW7Box",
        "colab_type": "code",
        "colab": {}
      },
      "source": [
        "# Run this to ensure TensorFlow 2.x is used\n",
        "try:\n",
        "  # %tensorflow_version only exists in Colab.\n",
        "  %tensorflow_version 2.x\n",
        "except Exception:\n",
        "  pass"
      ],
      "execution_count": 0,
      "outputs": []
    },
    {
      "cell_type": "code",
      "metadata": {
        "id": "FklSkx9k7Mzp",
        "colab_type": "code",
        "colab": {}
      },
      "source": [
        "import tensorflow as tf\n",
        "\n",
        "from tensorflow.keras.preprocessing.text import Tokenizer\n",
        "from tensorflow.keras.preprocessing.sequence import pad_sequences"
      ],
      "execution_count": 0,
      "outputs": []
    },
    {
      "cell_type": "code",
      "metadata": {
        "id": "u2-Bv6c97Rgm",
        "colab_type": "code",
        "colab": {}
      },
      "source": [
        "vocab_size = 10000\n",
        "embedding_dim = 16\n",
        "max_length = 100\n",
        "trunc_type='post'\n",
        "padding_type='post'\n",
        "oov_tok = \"<OOV>\"\n"
      ],
      "execution_count": 0,
      "outputs": []
    },
    {
      "cell_type": "code",
      "metadata": {
        "id": "yqTesJF_7bfU",
        "colab_type": "code",
        "colab": {}
      },
      "source": [
        "tokenizer = Tokenizer(num_words=vocab_size, oov_token=oov_tok)\n",
        "tokenizer.fit_on_texts(train_df1['text_clean'])\n",
        "\n",
        "word_index = tokenizer.word_index\n",
        "\n",
        "training_sequences = tokenizer.texts_to_sequences(train_df1['text_clean'])\n",
        "training_padded = pad_sequences(training_sequences, maxlen=max_length, padding=padding_type, truncating=trunc_type)\n",
        "\n",
        "testing_sequences = tokenizer.texts_to_sequences(test_df1['text_clean'])\n",
        "testing_padded = pad_sequences(testing_sequences, maxlen=max_length, padding=padding_type, truncating=trunc_type)"
      ],
      "execution_count": 0,
      "outputs": []
    },
    {
      "cell_type": "code",
      "metadata": {
        "id": "6gUzt1C49mZZ",
        "colab_type": "code",
        "colab": {}
      },
      "source": [
        "training_labels = train_df1['target']"
      ],
      "execution_count": 0,
      "outputs": []
    },
    {
      "cell_type": "code",
      "metadata": {
        "id": "cx7J_cHy8ZmV",
        "colab_type": "code",
        "colab": {}
      },
      "source": [
        "# Need this block to get it to work with TensorFlow 2.x\n",
        "import numpy as np\n",
        "training_padded = np.array(training_padded)\n",
        "training_labels = np.array(training_labels)\n",
        "testing_padded = np.array(testing_padded)"
      ],
      "execution_count": 0,
      "outputs": []
    },
    {
      "cell_type": "code",
      "metadata": {
        "id": "HRMUcdQN-NDL",
        "colab_type": "code",
        "colab": {}
      },
      "source": [
        "model = tf.keras.Sequential([\n",
        "    tf.keras.layers.Embedding(vocab_size, embedding_dim, input_length=max_length),\n",
        "    tf.keras.layers.GlobalAveragePooling1D(),\n",
        "    tf.keras.layers.Dense(24, activation='relu'),\n",
        "    tf.keras.layers.Dense(1, activation='sigmoid')\n",
        "])\n",
        "model.compile(loss='binary_crossentropy',optimizer='adam',metrics=['accuracy'])"
      ],
      "execution_count": 0,
      "outputs": []
    },
    {
      "cell_type": "code",
      "metadata": {
        "id": "C6dpPpWm-hOz",
        "colab_type": "code",
        "colab": {
          "base_uri": "https://localhost:8080/",
          "height": 289
        },
        "outputId": "21389ec9-aa4f-4618-e23e-99779ef0f362"
      },
      "source": [
        "model.summary()\n"
      ],
      "execution_count": 19,
      "outputs": [
        {
          "output_type": "stream",
          "text": [
            "Model: \"sequential\"\n",
            "_________________________________________________________________\n",
            "Layer (type)                 Output Shape              Param #   \n",
            "=================================================================\n",
            "embedding (Embedding)        (None, 100, 16)           160000    \n",
            "_________________________________________________________________\n",
            "global_average_pooling1d (Gl (None, 16)                0         \n",
            "_________________________________________________________________\n",
            "dense (Dense)                (None, 24)                408       \n",
            "_________________________________________________________________\n",
            "dense_1 (Dense)              (None, 1)                 25        \n",
            "=================================================================\n",
            "Total params: 160,433\n",
            "Trainable params: 160,433\n",
            "Non-trainable params: 0\n",
            "_________________________________________________________________\n"
          ],
          "name": "stdout"
        }
      ]
    },
    {
      "cell_type": "code",
      "metadata": {
        "id": "FDgFQyeD-yxt",
        "colab_type": "code",
        "colab": {
          "base_uri": "https://localhost:8080/",
          "height": 1000
        },
        "outputId": "1f13b5bb-0465-4ad1-9d40-31382b3da72b"
      },
      "source": [
        "num_epochs = 30\n",
        "history = model.fit(training_padded, training_labels, epochs=num_epochs, validation_data=(training_padded, training_labels), verbose=2)"
      ],
      "execution_count": 20,
      "outputs": [
        {
          "output_type": "stream",
          "text": [
            "Epoch 1/30\n",
            "238/238 - 1s - loss: 0.6823 - accuracy: 0.5703 - val_loss: 0.6747 - val_accuracy: 0.5703\n",
            "Epoch 2/30\n",
            "238/238 - 1s - loss: 0.6476 - accuracy: 0.6108 - val_loss: 0.5907 - val_accuracy: 0.7904\n",
            "Epoch 3/30\n",
            "238/238 - 1s - loss: 0.5217 - accuracy: 0.7896 - val_loss: 0.4519 - val_accuracy: 0.8363\n",
            "Epoch 4/30\n",
            "238/238 - 1s - loss: 0.4234 - accuracy: 0.8320 - val_loss: 0.3794 - val_accuracy: 0.8488\n",
            "Epoch 5/30\n",
            "238/238 - 1s - loss: 0.3677 - accuracy: 0.8554 - val_loss: 0.3421 - val_accuracy: 0.8692\n",
            "Epoch 6/30\n",
            "238/238 - 1s - loss: 0.3284 - accuracy: 0.8704 - val_loss: 0.2987 - val_accuracy: 0.8844\n",
            "Epoch 7/30\n",
            "238/238 - 1s - loss: 0.2974 - accuracy: 0.8844 - val_loss: 0.2725 - val_accuracy: 0.8912\n",
            "Epoch 8/30\n",
            "238/238 - 1s - loss: 0.2727 - accuracy: 0.8903 - val_loss: 0.2483 - val_accuracy: 0.9025\n",
            "Epoch 9/30\n",
            "238/238 - 1s - loss: 0.2491 - accuracy: 0.9067 - val_loss: 0.2454 - val_accuracy: 0.9094\n",
            "Epoch 10/30\n",
            "238/238 - 1s - loss: 0.2298 - accuracy: 0.9128 - val_loss: 0.2080 - val_accuracy: 0.9238\n",
            "Epoch 11/30\n",
            "238/238 - 1s - loss: 0.2118 - accuracy: 0.9199 - val_loss: 0.1940 - val_accuracy: 0.9239\n",
            "Epoch 12/30\n",
            "238/238 - 1s - loss: 0.1971 - accuracy: 0.9238 - val_loss: 0.1773 - val_accuracy: 0.9363\n",
            "Epoch 13/30\n",
            "238/238 - 1s - loss: 0.1824 - accuracy: 0.9291 - val_loss: 0.1639 - val_accuracy: 0.9426\n",
            "Epoch 14/30\n",
            "238/238 - 1s - loss: 0.1714 - accuracy: 0.9335 - val_loss: 0.1572 - val_accuracy: 0.9477\n",
            "Epoch 15/30\n",
            "238/238 - 1s - loss: 0.1631 - accuracy: 0.9364 - val_loss: 0.1425 - val_accuracy: 0.9482\n",
            "Epoch 16/30\n",
            "238/238 - 1s - loss: 0.1504 - accuracy: 0.9438 - val_loss: 0.1426 - val_accuracy: 0.9439\n",
            "Epoch 17/30\n",
            "238/238 - 1s - loss: 0.1412 - accuracy: 0.9475 - val_loss: 0.1239 - val_accuracy: 0.9569\n",
            "Epoch 18/30\n",
            "238/238 - 1s - loss: 0.1349 - accuracy: 0.9514 - val_loss: 0.1173 - val_accuracy: 0.9593\n",
            "Epoch 19/30\n",
            "238/238 - 1s - loss: 0.1233 - accuracy: 0.9539 - val_loss: 0.1186 - val_accuracy: 0.9556\n",
            "Epoch 20/30\n",
            "238/238 - 1s - loss: 0.1182 - accuracy: 0.9567 - val_loss: 0.1118 - val_accuracy: 0.9582\n",
            "Epoch 21/30\n",
            "238/238 - 1s - loss: 0.1131 - accuracy: 0.9580 - val_loss: 0.1043 - val_accuracy: 0.9644\n",
            "Epoch 22/30\n",
            "238/238 - 1s - loss: 0.1058 - accuracy: 0.9595 - val_loss: 0.0939 - val_accuracy: 0.9662\n",
            "Epoch 23/30\n",
            "238/238 - 1s - loss: 0.1006 - accuracy: 0.9640 - val_loss: 0.0882 - val_accuracy: 0.9701\n",
            "Epoch 24/30\n",
            "238/238 - 1s - loss: 0.0994 - accuracy: 0.9628 - val_loss: 0.0855 - val_accuracy: 0.9706\n",
            "Epoch 25/30\n",
            "238/238 - 1s - loss: 0.0945 - accuracy: 0.9645 - val_loss: 0.0811 - val_accuracy: 0.9715\n",
            "Epoch 26/30\n",
            "238/238 - 1s - loss: 0.0892 - accuracy: 0.9669 - val_loss: 0.0826 - val_accuracy: 0.9708\n",
            "Epoch 27/30\n",
            "238/238 - 1s - loss: 0.0867 - accuracy: 0.9687 - val_loss: 0.0736 - val_accuracy: 0.9750\n",
            "Epoch 28/30\n",
            "238/238 - 1s - loss: 0.0826 - accuracy: 0.9694 - val_loss: 0.0725 - val_accuracy: 0.9752\n",
            "Epoch 29/30\n",
            "238/238 - 1s - loss: 0.0795 - accuracy: 0.9702 - val_loss: 0.0702 - val_accuracy: 0.9749\n",
            "Epoch 30/30\n",
            "238/238 - 1s - loss: 0.0768 - accuracy: 0.9718 - val_loss: 0.0674 - val_accuracy: 0.9761\n"
          ],
          "name": "stdout"
        }
      ]
    },
    {
      "cell_type": "code",
      "metadata": {
        "id": "uYIJQbLK_7aD",
        "colab_type": "code",
        "colab": {
          "base_uri": "https://localhost:8080/",
          "height": 136
        },
        "outputId": "838f5c3e-8b21-43e1-b5c4-c8043d9a2f5c"
      },
      "source": [
        "result=model.predict(testing_padded)\n",
        "print(result)"
      ],
      "execution_count": 21,
      "outputs": [
        {
          "output_type": "stream",
          "text": [
            "[[0.7969774 ]\n",
            " [0.9443841 ]\n",
            " [0.99979985]\n",
            " ...\n",
            " [0.9987575 ]\n",
            " [0.9653015 ]\n",
            " [0.96824574]]\n"
          ],
          "name": "stdout"
        }
      ]
    },
    {
      "cell_type": "code",
      "metadata": {
        "id": "f-uqQtFFAoFV",
        "colab_type": "code",
        "colab": {}
      },
      "source": [
        "test_df1['target']=result"
      ],
      "execution_count": 0,
      "outputs": []
    },
    {
      "cell_type": "code",
      "metadata": {
        "id": "tkO0oMzhCr-k",
        "colab_type": "code",
        "colab": {}
      },
      "source": [
        "test_df1['target']=test_df1['target'].apply(lambda x:(0 if x < 0.75 else 1))"
      ],
      "execution_count": 0,
      "outputs": []
    },
    {
      "cell_type": "code",
      "metadata": {
        "id": "9vcreJJMDTCP",
        "colab_type": "code",
        "colab": {
          "base_uri": "https://localhost:8080/",
          "height": 419
        },
        "outputId": "f91d3def-3ce9-49f2-8d17-144f38086273"
      },
      "source": [
        "test_df1[test_df1['target']==1]"
      ],
      "execution_count": 34,
      "outputs": [
        {
          "output_type": "execute_result",
          "data": {
            "text/html": [
              "<div>\n",
              "<style scoped>\n",
              "    .dataframe tbody tr th:only-of-type {\n",
              "        vertical-align: middle;\n",
              "    }\n",
              "\n",
              "    .dataframe tbody tr th {\n",
              "        vertical-align: top;\n",
              "    }\n",
              "\n",
              "    .dataframe thead th {\n",
              "        text-align: right;\n",
              "    }\n",
              "</style>\n",
              "<table border=\"1\" class=\"dataframe\">\n",
              "  <thead>\n",
              "    <tr style=\"text-align: right;\">\n",
              "      <th></th>\n",
              "      <th>id</th>\n",
              "      <th>text</th>\n",
              "      <th>text_clean</th>\n",
              "      <th>target</th>\n",
              "    </tr>\n",
              "  </thead>\n",
              "  <tbody>\n",
              "    <tr>\n",
              "      <th>0</th>\n",
              "      <td>0</td>\n",
              "      <td>just happened a terrible car crash</td>\n",
              "      <td>just happened a terrible car crash</td>\n",
              "      <td>1</td>\n",
              "    </tr>\n",
              "    <tr>\n",
              "      <th>1</th>\n",
              "      <td>2</td>\n",
              "      <td>heard about #earthquake is different cities, s...</td>\n",
              "      <td>heard about earthquake is different cities sta...</td>\n",
              "      <td>1</td>\n",
              "    </tr>\n",
              "    <tr>\n",
              "      <th>2</th>\n",
              "      <td>3</td>\n",
              "      <td>there is a forest fire at spot pond, geese are...</td>\n",
              "      <td>there is a forest fire at spot pond geese are ...</td>\n",
              "      <td>1</td>\n",
              "    </tr>\n",
              "    <tr>\n",
              "      <th>3</th>\n",
              "      <td>9</td>\n",
              "      <td>apocalypse lighting. #spokane #wildfires</td>\n",
              "      <td>apocalypse lighting spokane wildfires</td>\n",
              "      <td>1</td>\n",
              "    </tr>\n",
              "    <tr>\n",
              "      <th>4</th>\n",
              "      <td>11</td>\n",
              "      <td>typhoon soudelor kills 28 in china and taiwan</td>\n",
              "      <td>typhoon soudelor kills 28 in china and taiwan</td>\n",
              "      <td>1</td>\n",
              "    </tr>\n",
              "    <tr>\n",
              "      <th>...</th>\n",
              "      <td>...</td>\n",
              "      <td>...</td>\n",
              "      <td>...</td>\n",
              "      <td>...</td>\n",
              "    </tr>\n",
              "    <tr>\n",
              "      <th>3257</th>\n",
              "      <td>10858</td>\n",
              "      <td>the death toll in a #is-suicide car bombing on...</td>\n",
              "      <td>the death toll in a issuicide car bombing on a...</td>\n",
              "      <td>1</td>\n",
              "    </tr>\n",
              "    <tr>\n",
              "      <th>3259</th>\n",
              "      <td>10865</td>\n",
              "      <td>storm in ri worse than last hurricane. my city...</td>\n",
              "      <td>storm in ri worse than last hurricane my citya...</td>\n",
              "      <td>1</td>\n",
              "    </tr>\n",
              "    <tr>\n",
              "      <th>3260</th>\n",
              "      <td>10868</td>\n",
              "      <td>green line derailment in chicago http://t.co/u...</td>\n",
              "      <td>green line derailment in chicago httptcoutbxlc...</td>\n",
              "      <td>1</td>\n",
              "    </tr>\n",
              "    <tr>\n",
              "      <th>3261</th>\n",
              "      <td>10874</td>\n",
              "      <td>meg issues hazardous weather outlook (hwo) htt...</td>\n",
              "      <td>meg issues hazardous weather outlook hwo httpt...</td>\n",
              "      <td>1</td>\n",
              "    </tr>\n",
              "    <tr>\n",
              "      <th>3262</th>\n",
              "      <td>10875</td>\n",
              "      <td>#cityofcalgary has activated its municipal eme...</td>\n",
              "      <td>cityofcalgary has activated its municipal emer...</td>\n",
              "      <td>1</td>\n",
              "    </tr>\n",
              "  </tbody>\n",
              "</table>\n",
              "<p>1099 rows × 4 columns</p>\n",
              "</div>"
            ],
            "text/plain": [
              "         id  ... target\n",
              "0         0  ...      1\n",
              "1         2  ...      1\n",
              "2         3  ...      1\n",
              "3         9  ...      1\n",
              "4        11  ...      1\n",
              "...     ...  ...    ...\n",
              "3257  10858  ...      1\n",
              "3259  10865  ...      1\n",
              "3260  10868  ...      1\n",
              "3261  10874  ...      1\n",
              "3262  10875  ...      1\n",
              "\n",
              "[1099 rows x 4 columns]"
            ]
          },
          "metadata": {
            "tags": []
          },
          "execution_count": 34
        }
      ]
    },
    {
      "cell_type": "code",
      "metadata": {
        "id": "18pwYW2CDWIE",
        "colab_type": "code",
        "colab": {
          "base_uri": "https://localhost:8080/",
          "height": 170
        },
        "outputId": "ef3d00a5-ca1c-4fd0-cd57-120b8f497f19"
      },
      "source": [
        "submission=test_df1.drop(columns=['text','text_clean'])\n",
        "submission.reset_index(drop=True,inplace=True)\n",
        "submission.info()"
      ],
      "execution_count": 35,
      "outputs": [
        {
          "output_type": "stream",
          "text": [
            "<class 'pandas.core.frame.DataFrame'>\n",
            "RangeIndex: 3263 entries, 0 to 3262\n",
            "Data columns (total 2 columns):\n",
            " #   Column  Non-Null Count  Dtype\n",
            "---  ------  --------------  -----\n",
            " 0   id      3263 non-null   int64\n",
            " 1   target  3263 non-null   int64\n",
            "dtypes: int64(2)\n",
            "memory usage: 51.1 KB\n"
          ],
          "name": "stdout"
        }
      ]
    },
    {
      "cell_type": "code",
      "metadata": {
        "id": "KUulSgRgFZ2D",
        "colab_type": "code",
        "colab": {}
      },
      "source": [
        "submission.to_csv('submission.csv',index=0)"
      ],
      "execution_count": 0,
      "outputs": []
    }
  ]
}